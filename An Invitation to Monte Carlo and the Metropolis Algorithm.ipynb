{
 "cells": [
  {
   "cell_type": "code",
   "execution_count": 1,
   "metadata": {
    "collapsed": false
   },
   "outputs": [
    {
     "data": {
      "text/plain": [
       "4-element Array{Int64,1}:\n",
       " 2\n",
       " 3\n",
       " 4\n",
       " 5"
      ]
     },
     "execution_count": 1,
     "metadata": {},
     "output_type": "execute_result"
    }
   ],
   "source": [
    "addprocs(4)"
   ]
  },
  {
   "cell_type": "code",
   "execution_count": null,
   "metadata": {
    "collapsed": false
   },
   "outputs": [],
   "source": [
    "@everywhere function Compute_Pi(N::Int)\n",
    "    \"\"\"\n",
    "    Compute pi with a Monte Carlo simulation of N darts thrown in [-1,1]^2\n",
    "    Returns estimate of pi\n",
    "    \"\"\"\n",
    "    n_landed_in_circle = 0  # counts number of points that have radial coordinate < 1, i.e. in circle\n",
    "    for i = 1:N\n",
    "        x = rand() * 2 - 1  # uniformly distributed number on x-axis\n",
    "        y = rand() * 2 - 1  # uniformly distributed number on y-axis\n",
    "\n",
    "        r2 = x*x + y*y  # radius squared, in radial coordinates\n",
    "        if r2 < 1.0\n",
    "            n_landed_in_circle += 1\n",
    "        end\n",
    "    end\n",
    "\n",
    "    return n_landed_in_circle / N * 4.0    \n",
    "end"
   ]
  },
  {
   "cell_type": "code",
   "execution_count": null,
   "metadata": {
    "collapsed": false
   },
   "outputs": [],
   "source": [
    "Compute_Pi(100000)"
   ]
  },
  {
   "cell_type": "code",
   "execution_count": null,
   "metadata": {
    "collapsed": false
   },
   "outputs": [],
   "source": [
    "job = @spawn Compute_Pi(1000000000)\n",
    "fetch(job)"
   ]
  },
  {
   "cell_type": "code",
   "execution_count": null,
   "metadata": {
    "collapsed": false
   },
   "outputs": [],
   "source": [
    "function Parallel_pi_computation(N::Int; ncores::Int=8)\n",
    "    \"\"\"\n",
    "    Compute pi in parallel, over ncores cores, with a Monte Carlo simulation throwing N total darts\n",
    "    \"\"\"\n",
    "\n",
    "    # compute sum of pi's estimated among all cores in parallel\n",
    "    sum_of_pis = @parallel (+) for i=1:ncores\n",
    "        Compute_Pi(ceil(Int, N / ncores))\n",
    "    end\n",
    "\n",
    "    return sum_of_pis / ncores  # average value\n",
    "end"
   ]
  },
  {
   "cell_type": "code",
   "execution_count": null,
   "metadata": {
    "collapsed": false
   },
   "outputs": [],
   "source": [
    "@time Compute_Pi(8000000000)"
   ]
  },
  {
   "cell_type": "code",
   "execution_count": null,
   "metadata": {
    "collapsed": false
   },
   "outputs": [],
   "source": [
    "@time Parallel_pi_computation(8000000000)"
   ]
  },
  {
   "cell_type": "code",
   "execution_count": null,
   "metadata": {
    "collapsed": true
   },
   "outputs": [],
   "source": [
    "#Pkg.update()\n",
    "#Pkg.add(\"PyPlot\")\n",
    "using PyPlot"
   ]
  },
  {
   "cell_type": "code",
   "execution_count": null,
   "metadata": {
    "collapsed": false
   },
   "outputs": [],
   "source": [
    "function incircle(r2)\n",
    "    if r2<.25\n",
    "        return true\n",
    "    else\n",
    "        return false\n",
    "    end\n",
    "end"
   ]
  },
  {
   "cell_type": "code",
   "execution_count": null,
   "metadata": {
    "collapsed": false
   },
   "outputs": [],
   "source": [
    "#The number of darts we will throw at the board.  We will see how accurate different numbers are\n",
    "N=[10,25,50,75,100,250,500,750,1000,2500,5000,7500,10000];\n",
    "# We will perform each number multiple times in order to calculate error bars\n",
    "M=15;"
   ]
  },
  {
   "cell_type": "code",
   "execution_count": null,
   "metadata": {
    "collapsed": false
   },
   "outputs": [],
   "source": [
    "πapprox=zeros(Float64,length(N),M);\n",
    "\n",
    "for ii in 1:length(N)\n",
    "    #initialize an array of proper size\n",
    "    X=zeros(Float64,N[ii],2);\n",
    "    for jj in 1:M\n",
    "\n",
    "        #popular our array with random numbers on the unit interval\n",
    "        rand!(X);\n",
    "\n",
    "        #calculate their radius squared\n",
    "        R2=(X[:,1]-.5).^2+(X[:,2]-.5).^2\n",
    "\n",
    "        # 4*number in circle / total number\n",
    "        πapprox[ii,jj]=4.*length(filter(incircle,R2))/N[ii];\n",
    "\n",
    "    end\n",
    "end"
   ]
  },
  {
   "cell_type": "code",
   "execution_count": null,
   "metadata": {
    "collapsed": false
   },
   "outputs": [],
   "source": [
    "# Get our averages and standard deviations\n",
    "πave=sum(πapprox,2)/M;\n",
    "πstd=std(πapprox,2);"
   ]
  },
  {
   "cell_type": "code",
   "execution_count": null,
   "metadata": {
    "collapsed": false
   },
   "outputs": [],
   "source": [
    "title(\"Monte Carlo Estimation of π\")\n",
    "ylabel(\"π estimate\")\n",
    "xlabel(\"N points\")\n",
    "plot(N,π*ones(N));\n",
    "\n",
    "for j in 1:M\n",
    "    scatter(N,πapprox[:,j],marker=\"o\",color=\"green\");\n",
    "end\n",
    "ax=gca()\n",
    "errorbar(N,π*ones(N),yerr=πstd,color=\"red\",fmt=\"o\")\n",
    "ax[:set_xscale](\"log\");\n",
    "ax[:set_xlim]([5,5*10^4]);"
   ]
  },
  {
   "cell_type": "code",
   "execution_count": null,
   "metadata": {
    "collapsed": false
   },
   "outputs": [],
   "source": [
    "title(\"Dependence of Monte Carlo Error on Number of Points\")\n",
    "ylabel(\"standard deviation\")\n",
    "xlabel(\"N points\")\n",
    "semilogx(N,πstd,marker=\"o\");"
   ]
  },
  {
   "cell_type": "code",
   "execution_count": null,
   "metadata": {
    "collapsed": false
   },
   "outputs": [],
   "source": [
    "X=zeros(Float64,1000);\n",
    "Y=zeros(Float64,1000);\n",
    "rand!(X);\n",
    "rand!(Y);\n",
    "R2=(X-.5).^2+(Y-.5).^2;\n",
    "Xc=[];\n",
    "Yc=[]\n",
    "for ii in 1:length(X)\n",
    "    if R2[ii]<.25\n",
    "        push!(Xc,X[ii]);\n",
    "        push!(Yc,Y[ii]);\n",
    "    end\n",
    "end\n",
    "\n",
    "title(\"The dartboard\")\n",
    "xlim(0,1)\n",
    "ylim(0,1)\n",
    "scatter(X,Y);\n",
    "scatter(Xc,Yc,color=\"red\");"
   ]
  },
  {
   "cell_type": "code",
   "execution_count": null,
   "metadata": {
    "collapsed": false
   },
   "outputs": [],
   "source": [
    "function MonteCarloPi(N::Int; ncores::Int=8)\n",
    "    \n",
    "    R=1;\n",
    "    \n",
    "    #first, we define a function that will check if a point is within the circle\n",
    "    function Circle(R)\n",
    "        if R<1.0\n",
    "            return true\n",
    "        else\n",
    "            return false\n",
    "        end\n",
    "    end\n",
    "    \n",
    "    X=zeros(Float64,N,2);\n",
    "    M=20;\n",
    "    \n",
    "    for jj in 1:M\n",
    "        rand!(X);\n",
    "        \n",
    "        R=(X[:,1]).^2+(X[:,2]).^2\n",
    "\n",
    "    end\n",
    "   \n",
    "    return 4.*length(filter(Circle,R))/N;\n",
    "    \n",
    "end"
   ]
  },
  {
   "cell_type": "code",
   "execution_count": null,
   "metadata": {
    "collapsed": false
   },
   "outputs": [],
   "source": [
    "@everywhere function MonteCarloPiCores(N::Int; ncores::Int=8)\n",
    "    \n",
    "    in_circle = 0;\n",
    "    \n",
    "    for i = 1 : N\n",
    "        x = rand() * 2 - 1\n",
    "        y = rand() * 2 - 1\n",
    "        \n",
    "        R = x*x + y*y;\n",
    "        if R < 1.0\n",
    "            in_circle += 1\n",
    "        end\n",
    "        \n",
    "    end\n",
    "\n",
    "    return in_circle/ N*4.0\n",
    "    \n",
    "end\n",
    "    \n",
    "#    #first, we define a function that will check if a point is within the circle\n",
    "#    function Circle(R)\n",
    "#        if R<1.0\n",
    "#            return true\n",
    "#        else\n",
    "#            return false\n",
    "#        end\n",
    "#    end\n",
    "#    \n",
    "#    X=zeros(Float64,N,2);\n",
    "#    M=20;\n",
    "#    \n",
    "#    for jj in 1:M\n",
    "#        rand!(X);\n",
    "#        \n",
    "#        R=(X[:,1]).^2+(X[:,2]).^2\n",
    "#\n",
    "#    end\n",
    "#   \n",
    "#    return 4.*length(filter(Circle,R))/N;\n",
    "#    \n",
    "#end\n",
    "#\n",
    "#\n",
    "#    n_landed_in_circle = 0  # counts number of points that have radial coordinate < 1, i.e. in circle\n",
    "#        for i = 1:N\n",
    "#            x = rand() * 2 - 1  # uniformly distributed number on x-axis\n",
    "#            y = rand() * 2 - 1  # uniformly distributed number on y-axis\n",
    "#\n",
    "#            r2 = x*x + y*y  # radius squared, in radial coordinates\n",
    "#            if r2 < 1.0\n",
    "#                n_landed_in_circle += 1\n",
    "#            end\n",
    "#        end\n",
    "#\n",
    "#    return n_landed_in_circle / N * 4.0    \n",
    "#end"
   ]
  },
  {
   "cell_type": "code",
   "execution_count": null,
   "metadata": {
    "collapsed": false
   },
   "outputs": [],
   "source": [
    "MonteCarloPiCores(10000)"
   ]
  },
  {
   "cell_type": "code",
   "execution_count": null,
   "metadata": {
    "collapsed": false
   },
   "outputs": [],
   "source": [
    "function Slices_of_Pi(N::Int; ncores::Int=8)\n",
    "    \"\"\"\n",
    "    Compute pi in parallel, over ncores cores, with a Monte Carlo simulation throwing N total darts\n",
    "    \"\"\"\n",
    "\n",
    "    # compute sum of pi's estimated among all cores in parallel\n",
    "    sum_of_pis = @parallel (+) for i=1:ncores\n",
    "        MonteCarloPiCores(ceil(Int, N / ncores))\n",
    "    end\n",
    "\n",
    "    return sum_of_pis / ncores  # average value\n",
    "end"
   ]
  },
  {
   "cell_type": "code",
   "execution_count": null,
   "metadata": {
    "collapsed": false
   },
   "outputs": [],
   "source": [
    "Slices_of_Pi(1000000)"
   ]
  },
  {
   "cell_type": "code",
   "execution_count": null,
   "metadata": {
    "collapsed": false
   },
   "outputs": [],
   "source": [
    "@time MonteCarloPi(1000000)"
   ]
  },
  {
   "cell_type": "code",
   "execution_count": null,
   "metadata": {
    "collapsed": false
   },
   "outputs": [],
   "source": [
    "@time Slices_of_Pi(1000)"
   ]
  },
  {
   "cell_type": "code",
   "execution_count": null,
   "metadata": {
    "collapsed": false
   },
   "outputs": [],
   "source": [
    "rand()*2-1"
   ]
  },
  {
   "cell_type": "code",
   "execution_count": 4,
   "metadata": {
    "collapsed": false
   },
   "outputs": [
    {
     "data": {
      "text/plain": [
       "MC_Pi_1 (generic function with 1 method)"
      ]
     },
     "execution_count": 4,
     "metadata": {},
     "output_type": "execute_result"
    }
   ],
   "source": [
    "function MC_Pi_1(N::Int)\n",
    "    \n",
    "    in_circle = 0;\n",
    "    \n",
    "    for i = 1 : N\n",
    "        x = rand() * 2 - 1\n",
    "        y = rand() * 2 - 1\n",
    "        \n",
    "        R = x*x + y*y;\n",
    "        if R < 1.0\n",
    "            in_circle += 1\n",
    "        end\n",
    "        \n",
    "    end\n",
    "\n",
    "    return in_circle/ N*4.0\n",
    "    \n",
    "end"
   ]
  },
  {
   "cell_type": "code",
   "execution_count": 15,
   "metadata": {
    "collapsed": false
   },
   "outputs": [
    {
     "name": "stdout",
     "output_type": "stream",
     "text": [
      "  9.083743 seconds (5 allocations: 176 bytes)\n"
     ]
    },
    {
     "data": {
      "text/plain": [
       "3.141552712"
      ]
     },
     "execution_count": 15,
     "metadata": {},
     "output_type": "execute_result"
    }
   ],
   "source": [
    "@time MC_Pi_1(1000000000)"
   ]
  },
  {
   "cell_type": "code",
   "execution_count": 6,
   "metadata": {
    "collapsed": false
   },
   "outputs": [
    {
     "name": "stderr",
     "output_type": "stream",
     "text": [
      "WARNING: Method definition MC_Pi(Int64) in module Main at In[2]:3 overwritten at In[6]:3.\n",
      "WARNING: Method definition #MC_Pi(Array{Any, 1}, Main.#MC_Pi, Int64) in module Main overwritten.\n",
      "WARNING: Method definition MC_Pi(Int64) in module Main at In[2]:3 overwritten at In[6]:3.\n",
      "WARNING: Method definition #MC_Pi(Array{Any, 1}, Main.#MC_Pi, Int64) in module Main overwritten.\n",
      "WARNING: Method definition MC_Pi(Int64) in module Main at In[2]:3 overwritten at In[6]:3.\n",
      "WARNING: Method definition #MC_Pi(Array{Any, 1}, Main.#MC_Pi, Int64) in module Main overwritten.\n",
      "WARNING: Method definition MC_Pi(Int64) in module Main at In[2]:3 overwritten at In[6]:3.\n",
      "WARNING: Method definition #MC_Pi(Array{Any, 1}, Main.#MC_Pi, Int64) in module Main overwritten.\n",
      "WARNING: Method definition MC_Pi(Int64) in module Main at In[2]:3 overwritten at In[6]:3.\n",
      "WARNING: Method definition #MC_Pi(Array{Any, 1}, Main.#MC_Pi, Int64) in module Main overwritten.\n",
      "WARNING: Method definition Parallel_Pi(Int64) in module Main at In[2]:22 overwritten at In[6]:22.\n",
      "WARNING: Method definition #Parallel_Pi(Array{Any, 1}, Main.#Parallel_Pi, Int64) in module Main overwritten.\n"
     ]
    },
    {
     "data": {
      "text/plain": [
       "Parallel_Pi (generic function with 1 method)"
      ]
     },
     "execution_count": 6,
     "metadata": {},
     "output_type": "execute_result"
    }
   ],
   "source": [
    "@everywhere function MC_Pi(N::Int; ncores::Int=4)\n",
    "    \n",
    "    in_circle = 0;\n",
    "    \n",
    "    for i = 1 : N\n",
    "        x = rand() * 2 - 1\n",
    "        y = rand() * 2 - 1\n",
    "        \n",
    "        R = x*x + y*y;\n",
    "        if R < 1.0\n",
    "            in_circle += 1\n",
    "        end\n",
    "        \n",
    "    end\n",
    "\n",
    "    return in_circle/ N*4.0\n",
    "    \n",
    "end\n",
    "\n",
    "\n",
    "function Parallel_Pi(N::Int; ncores::Int=8)\n",
    "    \"\"\"\n",
    "    Compute pi in parallel, over ncores cores, with a Monte Carlo simulation throwing N total darts\n",
    "    \"\"\"\n",
    "\n",
    "    # compute sum of pi's estimated among all cores in parallel\n",
    "    sum_of_pis = @parallel (+) for i=1:ncores\n",
    "        MC_Pi(ceil(Int, N / ncores))\n",
    "    end\n",
    "\n",
    "    return sum_of_pis / ncores  # average value\n",
    "end\n"
   ]
  },
  {
   "cell_type": "code",
   "execution_count": 14,
   "metadata": {
    "collapsed": false
   },
   "outputs": [
    {
     "name": "stdout",
     "output_type": "stream",
     "text": [
      "  3.550851 seconds (764 allocations: 57.406 KB)\n"
     ]
    },
    {
     "data": {
      "text/plain": [
       "3.1416263840000003"
      ]
     },
     "execution_count": 14,
     "metadata": {},
     "output_type": "execute_result"
    }
   ],
   "source": [
    "@time Parallel_Pi(1000000000)"
   ]
  },
  {
   "cell_type": "code",
   "execution_count": null,
   "metadata": {
    "collapsed": true
   },
   "outputs": [],
   "source": []
  }
 ],
 "metadata": {
  "kernelspec": {
   "display_name": "Julia 0.5.0",
   "language": "julia",
   "name": "julia-0.5"
  },
  "language_info": {
   "file_extension": ".jl",
   "mimetype": "application/julia",
   "name": "julia",
   "version": "0.5.0"
  }
 },
 "nbformat": 4,
 "nbformat_minor": 0
}
