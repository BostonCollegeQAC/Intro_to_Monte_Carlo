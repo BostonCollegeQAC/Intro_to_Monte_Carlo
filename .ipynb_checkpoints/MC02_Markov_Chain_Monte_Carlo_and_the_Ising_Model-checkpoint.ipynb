{
 "cells": [
  {
   "cell_type": "markdown",
   "metadata": {},
   "source": [
    "# Markov Chain Monte Carlo, the Metropolis Method, and an Introduction to the Ising Model\n",
    "### Author(s): Joshuah Heath "
   ]
  },
  {
   "cell_type": "code",
   "execution_count": 1,
   "metadata": {},
   "outputs": [],
   "source": [
    "addprocs(4)\n",
    "\n",
    "import PyCall\n",
    "@everywhere using PyCall\n",
    "@pyimport IPython.display as IPyD\n",
    "@everywhere @pyimport numpy as np\n",
    "@everywhere @pyimport random as rn\n",
    "\n",
    "using PyPlot"
   ]
  },
  {
   "cell_type": "code",
   "execution_count": 2,
   "metadata": {},
   "outputs": [
    {
     "data": {
      "text/html": [
       "<img src=\"https://upload.wikimedia.org/wikipedia/commons/5/56/Nicholas_Metropolis_cropped.PNG\" width=\"300\"/>"
      ],
      "text/plain": [
       "PyObject <IPython.core.display.Image object>"
      ]
     },
     "execution_count": 2,
     "metadata": {},
     "output_type": "execute_result"
    }
   ],
   "source": [
    "IPyD.Image(url=\"https://upload.wikimedia.org/wikipedia/commons/5/56/Nicholas_Metropolis_cropped.PNG\", width=300)"
   ]
  },
  {
   "cell_type": "code",
   "execution_count": 3,
   "metadata": {},
   "outputs": [],
   "source": [
    "# Lattice_calc\n",
    "# author(s): Joshuah Heath\n",
    "#\n",
    "# function to generate SxS Ising lattice\n",
    "#\n",
    "#==============================================================================================#\n",
    "\n",
    "\n",
    "@everywhere function Lattice_calc(S::Int64)\n",
    "    \n",
    "    # S = size of lattice\n",
    "    \n",
    "    L = [2*rn.randint(0,1)-1 for i in 1:S, j in 1:S]   # initialize Ising S x S lattice at zero temperature\n",
    "#    L = [1 for i in 1:S, j in 1:S]   # initialize Ising S x S lattice at zero temperature    \n",
    "    \n",
    "    return L\n",
    "    \n",
    "end\n",
    "    \n",
    "    \n",
    "    "
   ]
  },
  {
   "cell_type": "code",
   "execution_count": 4,
   "metadata": {},
   "outputs": [],
   "source": [
    "# Ham_calc\n",
    "# author(s): Joshuah Heath\n",
    "#\n",
    "# function to calculate the energy of a given SxS Ising lattice\n",
    "#\n",
    "#==============================================================================================#\n",
    "\n",
    "@everywhere function Ham_calc(S::Int64,L::Any)\n",
    "    # S = size of lattice\n",
    "    # L = lattice given as SxS array of 1's and -1's\n",
    "\n",
    "    E = -0.5*sum([L[i%S+1,j%S+1]*(L[(i+S-1)%S+1,j%S+1]+L[i%S+1,(j+S-1)%S+1]+L[(i+1)%S+1,j%S+1]+L[i%S+1,(j+1)%S+1]) \n",
    "            for i in 0:(S-1), j in 0:(S-1)])\n",
    "    \n",
    "    # the above calculates the energy--note the periodic boundary conditions\n",
    "    \n",
    "    return E   # return energy\n",
    "    \n",
    "end\n",
    "    "
   ]
  },
  {
   "cell_type": "code",
   "execution_count": 6,
   "metadata": {},
   "outputs": [],
   "source": [
    "# mag_calc\n",
    "# author(s): Joshuah Heath\n",
    "#\n",
    "# function to calculate the magnetization of a given SxS Ising lattice\n",
    "#\n",
    "#==============================================================================================#\n",
    "\n",
    "@everywhere function mag_calc(S::Int64,L::Any)\n",
    "    # S = size of lattice\n",
    "    # L = lattice given as SxS array of 1's and -1's\n",
    "    \n",
    "    mag = sum(L)/(S^2)   # return the magnetization of lattice\n",
    "    \n",
    "    mag_sqr = mag^2\n",
    "    \n",
    "    return mag, mag_sqr\n",
    "end\n",
    "    "
   ]
  },
  {
   "cell_type": "code",
   "execution_count": 5,
   "metadata": {},
   "outputs": [],
   "source": [
    "# Metropolis_Ising\n",
    "# author(s): Joshuah Heath\n",
    "#\n",
    "# function that performs a Metropolis Monte Carlo simulation of the 2x2 Ising model at temperature T\n",
    "#\n",
    "#==============================================================================================#\n",
    "\n",
    "@everywhere function Metropolis_Ising(Param_List::Any)\n",
    "    \n",
    "    N = Int64(Param_List[1])\n",
    "    S = Int64(Param_List[2])\n",
    "    T = Float64(Param_List[3])\n",
    "    \n",
    "    # S = size of the lattice\n",
    "    # N = number of Monte Carlo steps\n",
    "    # T = temperature \n",
    "    \n",
    "    L = Lattice_calc(S)   # initialize lattice\n",
    "    \n",
    "    E1 = Ham_calc(S,L)   # calculate initial energy\n",
    "    \n",
    "    measure_start = Int(0.25*N)\n",
    "      \n",
    "    mag_list = Array(Float64,N-measure_start)\n",
    "    \n",
    "    mag_sqr_list = Array(Float64,N-measure_start)\n",
    "    \n",
    "    \n",
    "    N_end=0;   # this will count the number of times we have error bars smaller than C; used for presentation of data\n",
    "\n",
    "    \n",
    "    for i in 1:N   # go through MC steps\n",
    "        \n",
    "        rx = rand(1:S)   \n",
    "        ry = rand(1:S)\n",
    "        \n",
    "        L[rx,ry] = -1 * L[rx,ry]   # pick a random spin on lattice\n",
    "        \n",
    "        E = Ham_calc(S,L)   # calculate new energy\n",
    "        \n",
    "        W= exp(-(E-E1)/T)   # find Boltzmann weight W\n",
    "                        \n",
    "        r = rand()   # generate random number between 0 and 1\n",
    "        \n",
    "        if E-E1<=0 || r < W   # perform Metropolis \n",
    "            E1 = E\n",
    "        else   \n",
    "            L[rx,ry] = -1 * L[rx,ry]\n",
    "        \n",
    "        end\n",
    "        \n",
    "        if i>measure_start   # only after thermalization do we begin to look at magnetization\n",
    "            \n",
    "            mag_list[i-measure_start] = mag_calc(S,L)[1]\n",
    "            \n",
    "            mag_sqr_list[i-measure_start] = mag_calc(S,L)[2]\n",
    "            \n",
    "        end\n",
    "        \n",
    "        \n",
    "        \n",
    "    end\n",
    "        \n",
    "    mag_avg = abs(sum(mag_list)/length(mag_list))   # find final magnetization at temperature T\n",
    "    \n",
    "    mag_sqr_avg = sum(mag_sqr_list)/length(mag_sqr_list)\n",
    "    \n",
    "    mag_error = np.sqrt(abs(mag_avg^2-mag_sqr_avg))\n",
    "    \n",
    "    return [mag_avg, mag_error]\n",
    "     \n",
    "end\n",
    "    \n",
    "    \n",
    "    "
   ]
  },
  {
   "cell_type": "code",
   "execution_count": 10,
   "metadata": {},
   "outputs": [
    {
     "data": {
      "text/plain": [
       "2-element Array{Float64,1}:\n",
       " 0.00508667\n",
       " 0.214288  "
      ]
     },
     "execution_count": 10,
     "metadata": {},
     "output_type": "execute_result"
    }
   ],
   "source": [
    "Metropolis_Ising([100000,10,4.1])"
   ]
  },
  {
   "cell_type": "code",
   "execution_count": 11,
   "metadata": {},
   "outputs": [],
   "source": [
    "# parallel_calc\n",
    "# author(s): Joshuah Heath\n",
    "#\n",
    "# function that takes some general function and splits it between your computer's processors\n",
    "#\n",
    "#==============================================================================================#\n",
    "\n",
    "function parallel_calc(f::Function,Param_List::Any,proc::Int=4)\n",
    "    \n",
    "    N = Int64(Param_List[1])\n",
    "    \n",
    "    #f = some predefined function\n",
    "    #N = number of Monte Carlo steps\n",
    "    #proc = number of additional processors, preset to four\n",
    "    \n",
    "    n=round(Int,N/proc);   # split the number of Monte Carlo steps equally between processors \n",
    "    \n",
    "    proc_sum = @parallel (+) for i=1:proc   # loop through the processors and distribute jobs\n",
    "        f(Param_List)\n",
    "    end\n",
    "        \n",
    "    return proc_sum / proc   # return the average of the parallel jobs\n",
    "    \n",
    "end "
   ]
  },
  {
   "cell_type": "code",
   "execution_count": 12,
   "metadata": {},
   "outputs": [
    {
     "data": {
      "text/plain": [
       "2-element Array{Float64,1}:\n",
       " 0.998508  \n",
       " 0.00568428"
      ]
     },
     "execution_count": 12,
     "metadata": {},
     "output_type": "execute_result"
    }
   ],
   "source": [
    "parallel_calc(Metropolis_Ising,[100000,10,1.1])"
   ]
  },
  {
   "cell_type": "code",
   "execution_count": 13,
   "metadata": {},
   "outputs": [
    {
     "data": {
      "text/plain": [
       "MC_plotter (generic function with 1 method)"
      ]
     },
     "execution_count": 13,
     "metadata": {},
     "output_type": "execute_result"
    }
   ],
   "source": [
    "# MC_plotter\n",
    "# author(s): Joshuah Heath\n",
    "#\n",
    "# function that plots Monte Carlo data\n",
    "#\n",
    "#==============================================================================================#\n",
    "\n",
    "function MC_plotter(f::Function,Param_List::Any,t::Any)\n",
    "    \n",
    "    N = Int64(Param_List[1])\n",
    "    S = Int64(Param_List[2])\n",
    "    T = Float64(Param_List[3])\n",
    "    \n",
    "    start_temp =1 # beginning temp set to 1 K\n",
    "    \n",
    "    mag_list=[parallel_calc(f,[N,S,temp])[1] for temp in start_temp:t:T]   \n",
    "    \n",
    "    plot(collect(start_temp:t:T),mag_list,linestyle=\"--\",marker=\".\", color=\"blue\",label=string(\"Metropolis Estimate of M\"))\n",
    "    \n",
    "    axvline(x=2/(np.log(1+np.sqrt(2))),linestyle=\"-\",color=\"red\",label=string(L\"Onsager's Exact Result of $T_c$\")) \n",
    "\n",
    "    \n",
    "    title(string(\"Ferromagnetic Phase Transition in 2D Ising Lattice\"))   # make titles and labels\n",
    "    ylabel(\"Average Magentisation\")\n",
    "    xlabel(\"Temperature (K)\")\n",
    "    \n",
    "    legend(bbox_to_anchor=(1.05, 1), loc=2, borderaxespad=0.)   # make legend\n",
    "\n",
    "\n",
    "end\n",
    "   "
   ]
  },
  {
   "cell_type": "code",
   "execution_count": 14,
   "metadata": {},
   "outputs": [
    {
     "data": {
      "image/png": "[encoded data removed]",
      "text/plain": [
       "PyPlot.Figure(PyObject <matplotlib.figure.Figure object at 0x322e9b050>)"
      ]
     },
     "metadata": {},
     "output_type": "display_data"
    },
    {
     "data": {
      "text/plain": [
       "PyObject <matplotlib.legend.Legend object at 0x3231c1cd0>"
      ]
     },
     "execution_count": 14,
     "metadata": {},
     "output_type": "execute_result"
    }
   ],
   "source": [
    "MC_plotter(Metropolis_Ising,[10000,10,4],.2)"
   ]
  },
  {
   "cell_type": "code",
   "execution_count": 15,
   "metadata": {},
   "outputs": [
    {
     "data": {
      "text/plain": [
       "MC_error (generic function with 1 method)"
      ]
     },
     "execution_count": 15,
     "metadata": {},
     "output_type": "execute_result"
    }
   ],
   "source": [
    "# MC_smartplot\n",
    "# author(s): Joshuah Heath\n",
    "#\n",
    "# function that plots Monte Carlo data with error bars up to a specified error cutoff\n",
    "#\n",
    "#==============================================================================================#\n",
    "\n",
    "function MC_error(f::Function,Param_List::Any,t::Any)\n",
    "\n",
    "    N = Int64(Param_List[1])\n",
    "    S = Int64(Param_List[2])\n",
    "    T = Float64(Param_List[3])\n",
    "    \n",
    "    start_temp =1 # beginning temp set to 1 K\n",
    "    \n",
    "    MC_data=[parallel_calc(f,[N,S,temp]) for temp in start_temp:t:T]   \n",
    "    \n",
    "    mag_list=[MC_data[i][1] for i in 1:length(MC_data)]\n",
    "    \n",
    "    error_list=[MC_data[i][2] for i in 1:length(MC_data)]\n",
    "    \n",
    "    errorbar(collect(start_temp:t:T),mag_list,yerr=error_list,linestyle=\"--\",marker=\".\",\n",
    "            color=\"blue\",label=string(\"Metropolis Estimate of M\"))\n",
    "        \n",
    "    axvline(x=2/(np.log(1+np.sqrt(2))),linestyle=\"-\",color=\"red\",label=string(L\"Onsager's Exact Result of $T_c$\")) \n",
    "\n",
    "    \n",
    "    title(string(\"Ferromagnetic Phase Transition in 2D Ising Lattice\"))   # make titles and labels\n",
    "    ylabel(\"Average Magentisation\")\n",
    "    xlabel(\"Temperature (K)\")\n",
    "    \n",
    "    legend(bbox_to_anchor=(1.05, 1), loc=2, borderaxespad=0.)   # make legend\n",
    "\n",
    "end"
   ]
  },
  {
   "cell_type": "code",
   "execution_count": null,
   "metadata": {},
   "outputs": [],
   "source": [
    "MC_error(Metropolis_Ising,[100000,10,5],.2)"
   ]
  },
  {
   "cell_type": "code",
   "execution_count": null,
   "metadata": {
    "collapsed": true
   },
   "outputs": [],
   "source": []
  }
 ],
 "metadata": {
  "kernelspec": {
   "display_name": "Julia 0.5.2",
   "language": "julia",
   "name": "julia-0.5"
  },
  "language_info": {
   "file_extension": ".jl",
   "mimetype": "application/julia",
   "name": "julia",
   "version": "0.5.2"
  }
 },
 "nbformat": 4,
 "nbformat_minor": 2
}
